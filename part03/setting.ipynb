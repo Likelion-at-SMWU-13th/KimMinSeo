{
 "cells": [
  {
   "cell_type": "markdown",
   "id": "8dd4181b",
   "metadata": {},
   "source": [
    "문자 앞에 특수문자를 넣으면 *기울임체*가 됨\n",
    "\n",
    "문자 앞뒤에 특수문자를 넣으면 **강조체**가 됨\n",
    "\n",
    "문자 앞뒤에 특수문자를 넣으면 ~~취소선~~을 만듬\n",
    "\n",
    "문자 앞뒤에 대괄호와 괄호를 넣으면 [하이퍼링크](http://www.google.com/)을 만듬\n",
    "\n",
    "# 1단계 제목\n",
    "## 2단계 제목\n",
    "### 3단계 제목 \n",
    "#### 4단계 제목\n",
    "\n",
    "코드에 백틱(backtick) 기호를 입력하면 `pandas `와 같이 음영을 넣음"
   ]
  },
  {
   "cell_type": "code",
   "execution_count": 3,
   "id": "050b3f5c",
   "metadata": {},
   "outputs": [
    {
     "name": "stdout",
     "output_type": "stream",
     "text": [
      "Hello world\n"
     ]
    }
   ],
   "source": [
    "print(\"Hello world\")"
   ]
  },
  {
   "cell_type": "code",
   "execution_count": null,
   "id": "402876fe",
   "metadata": {},
   "outputs": [],
   "source": []
  }
 ],
 "metadata": {
  "kernelspec": {
   "display_name": "Python 3",
   "language": "python",
   "name": "python3"
  },
  "language_info": {
   "codemirror_mode": {
    "name": "ipython",
    "version": 3
   },
   "file_extension": ".py",
   "mimetype": "text/x-python",
   "name": "python",
   "nbconvert_exporter": "python",
   "pygments_lexer": "ipython3",
   "version": "3.12.10"
  }
 },
 "nbformat": 4,
 "nbformat_minor": 5
}
