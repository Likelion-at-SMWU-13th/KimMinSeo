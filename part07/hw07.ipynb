{
 "cells": [
  {
   "cell_type": "markdown",
   "id": "fb327840",
   "metadata": {},
   "source": [
    "# 7주차_데이터 전처리 및 가공2 과제"
   ]
  },
  {
   "cell_type": "code",
   "execution_count": 1,
   "id": "35f211b6",
   "metadata": {},
   "outputs": [],
   "source": [
    "import pandas as pd\n",
    "import numpy as np\n",
    "\n",
    "# mpg 데이터 불러오기\n",
    "mpg = pd.read_csv('mpg.csv')\n",
    "\n",
    "# 결측치 NaN 할당하기\n",
    "mpg.loc[[64, 123, 130, 152, 211], 'hwy'] = np.nan"
   ]
  },
  {
   "cell_type": "markdown",
   "id": "467887ec",
   "metadata": {},
   "source": [
    "## 결측치 1. drv 별 hwy 평균 비교하기"
   ]
  },
  {
   "cell_type": "code",
   "execution_count": 2,
   "id": "96d8a2e2",
   "metadata": {},
   "outputs": [
    {
     "data": {
      "text/plain": [
       "manufacturer    0\n",
       "model           0\n",
       "displ           0\n",
       "year            0\n",
       "cyl             0\n",
       "trans           0\n",
       "drv             0\n",
       "cty             0\n",
       "hwy             5\n",
       "fl              0\n",
       "category        0\n",
       "dtype: int64"
      ]
     },
     "execution_count": 2,
     "metadata": {},
     "output_type": "execute_result"
    }
   ],
   "source": [
    "pd.isna(mpg).sum()"
   ]
  },
  {
   "cell_type": "markdown",
   "id": "13ede09a",
   "metadata": {},
   "source": [
    "#### *→ drv 변수의 결측치는 0개, hwy 변수의 결측치는 5개로 확인된다.*"
   ]
  },
  {
   "cell_type": "markdown",
   "id": "6d0ca094",
   "metadata": {},
   "source": [
    "## 결측치2. hwy의 결측치 제거 후 어떤 구동방식의 hwy 평균 높은지 구하기"
   ]
  },
  {
   "cell_type": "code",
   "execution_count": null,
   "id": "68c8a82c",
   "metadata": {},
   "outputs": [
    {
     "data": {
      "text/html": [
       "<div>\n",
       "<style scoped>\n",
       "    .dataframe tbody tr th:only-of-type {\n",
       "        vertical-align: middle;\n",
       "    }\n",
       "\n",
       "    .dataframe tbody tr th {\n",
       "        vertical-align: top;\n",
       "    }\n",
       "\n",
       "    .dataframe thead th {\n",
       "        text-align: right;\n",
       "    }\n",
       "</style>\n",
       "<table border=\"1\" class=\"dataframe\">\n",
       "  <thead>\n",
       "    <tr style=\"text-align: right;\">\n",
       "      <th></th>\n",
       "      <th>mean_hwy</th>\n",
       "    </tr>\n",
       "    <tr>\n",
       "      <th>drv</th>\n",
       "      <th></th>\n",
       "    </tr>\n",
       "  </thead>\n",
       "  <tbody>\n",
       "    <tr>\n",
       "      <th>4</th>\n",
       "      <td>19.114583</td>\n",
       "    </tr>\n",
       "    <tr>\n",
       "      <th>f</th>\n",
       "      <td>28.200000</td>\n",
       "    </tr>\n",
       "    <tr>\n",
       "      <th>r</th>\n",
       "      <td>20.791667</td>\n",
       "    </tr>\n",
       "  </tbody>\n",
       "</table>\n",
       "</div>"
      ],
      "text/plain": [
       "      mean_hwy\n",
       "drv           \n",
       "4    19.114583\n",
       "f    28.200000\n",
       "r    20.791667"
      ]
     },
     "execution_count": 24,
     "metadata": {},
     "output_type": "execute_result"
    },
    {
     "ename": "",
     "evalue": "",
     "output_type": "error",
     "traceback": [
      "\u001b[1;31mThe Kernel crashed while executing code in the current cell or a previous cell. \n",
      "\u001b[1;31mPlease review the code in the cell(s) to identify a possible cause of the failure. \n",
      "\u001b[1;31mClick <a href='https://aka.ms/vscodeJupyterKernelCrash'>here</a> for more info. \n",
      "\u001b[1;31mView Jupyter <a href='command:jupyter.viewOutput'>log</a> for further details."
     ]
    }
   ],
   "source": [
    "# df.dropna()를 이용해 결측치 제거\n",
    "mpg0 = mpg.dropna(subset= ['hwy'])\n",
    "\n",
    "# drv 그룹별 hwy 평균 요약하기\n",
    "mpg0.groupby('drv') \\\n",
    "    .agg(mean_hwy = ('hwy', 'mean'))"
   ]
  },
  {
   "cell_type": "markdown",
   "id": "b1a9961f",
   "metadata": {},
   "source": [
    "#### *→ 분석결과 구동방식 f인 그룹의 hwy 평균이 28.2로 가장 높다.*"
   ]
  },
  {
   "cell_type": "markdown",
   "id": "84f174e0",
   "metadata": {},
   "source": [
    "## 이상치1. drv의 이상치 확인 후 결측 처리"
   ]
  },
  {
   "cell_type": "code",
   "execution_count": 7,
   "id": "9e2c46e4",
   "metadata": {},
   "outputs": [],
   "source": [
    "# drv 이상치 할당하기\n",
    "mpg.loc[[9, 13, 57, 92], 'drv'] = 'k'\n",
    "\n",
    "# cty 이상치 할당하기\n",
    "mpg.loc[[28, 42, 128, 202], 'cty'] = [3, 4, 39, 42]"
   ]
  },
  {
   "cell_type": "code",
   "execution_count": 8,
   "id": "cdb3bd2b",
   "metadata": {},
   "outputs": [
    {
     "data": {
      "text/plain": [
       "drv\n",
       "4    100\n",
       "f    106\n",
       "k      4\n",
       "r     24\n",
       "Name: count, dtype: int64"
      ]
     },
     "execution_count": 8,
     "metadata": {},
     "output_type": "execute_result"
    }
   ],
   "source": [
    "# drv의 이상치 확인\n",
    "mpg['drv'].value_counts().sort_index()"
   ]
  },
  {
   "cell_type": "markdown",
   "id": "155ab8a8",
   "metadata": {},
   "source": [
    "#### *→ 존재할 수 없는 값인 k를 가지는 이상치 4개 발견*"
   ]
  },
  {
   "cell_type": "code",
   "execution_count": 9,
   "id": "e8d8864f",
   "metadata": {},
   "outputs": [
    {
     "data": {
      "text/plain": [
       "drv\n",
       "4    100\n",
       "f    106\n",
       "r     24\n",
       "Name: count, dtype: int64"
      ]
     },
     "execution_count": 9,
     "metadata": {},
     "output_type": "execute_result"
    }
   ],
   "source": [
    "# drv 이상치 결측 처리\n",
    "mpg.loc[~mpg['drv'].isin(['4', 'f', 'r']), 'drv'] = np.nan\n",
    "\n",
    "# 이상치 재확인\n",
    "mpg['drv'].value_counts().sort_index()"
   ]
  },
  {
   "cell_type": "markdown",
   "id": "fa49e9df",
   "metadata": {},
   "source": [
    "## 이상치2. 상자그림으로 cty 이상치 확인하기"
   ]
  },
  {
   "cell_type": "code",
   "execution_count": 10,
   "id": "0b44a8e0",
   "metadata": {},
   "outputs": [
    {
     "data": {
      "text/plain": [
       "<Axes: ylabel='cty'>"
      ]
     },
     "execution_count": 10,
     "metadata": {},
     "output_type": "execute_result"
    },
    {
     "data": {
      "image/png": "[encoded data removed]",
      "text/plain": [
       "<Figure size 640x480 with 1 Axes>"
      ]
     },
     "metadata": {},
     "output_type": "display_data"
    }
   ],
   "source": [
    "import seaborn as sns\n",
    "\n",
    "# 상자그림 그려보기\n",
    "sns.boxplot(data = mpg, y='cty')"
   ]
  },
  {
   "cell_type": "code",
   "execution_count": 17,
   "id": "690288f0",
   "metadata": {},
   "outputs": [
    {
     "data": {
      "text/plain": [
       "<Axes: ylabel='cty'>"
      ]
     },
     "execution_count": 17,
     "metadata": {},
     "output_type": "execute_result"
    },
    {
     "data": {
      "image/png": "[encoded data removed]",
      "text/plain": [
       "<Figure size 640x480 with 1 Axes>"
      ]
     },
     "metadata": {},
     "output_type": "display_data"
    }
   ],
   "source": [
    "# 극단치 기준값 구하기\n",
    "p25 = mpg['cty'].quantile(.25)\n",
    "p75 = mpg['cty'].quantile(.75)\n",
    "iqr = p75 - p25\n",
    "ll = p25 - 1.5*iqr\n",
    "ul = p75 + 1.5*iqr\n",
    "\n",
    "# 극단치 결측 처리하기\n",
    "mpg['cty'] = np.where((mpg['cty']<ll) | (mpg['cty']>ul), np.nan, mpg['cty'])\n",
    "\n",
    "# 극단치 재확인\n",
    "sns.boxplot(data = mpg, y='cty')"
   ]
  },
  {
   "cell_type": "markdown",
   "id": "9294969f",
   "metadata": {},
   "source": [
    "## 이상치3. 결측된 이상치 제거 후 drv 별 cty 평균 구하기"
   ]
  },
  {
   "cell_type": "code",
   "execution_count": 23,
   "id": "dba810d9",
   "metadata": {},
   "outputs": [
    {
     "data": {
      "text/html": [
       "<div>\n",
       "<style scoped>\n",
       "    .dataframe tbody tr th:only-of-type {\n",
       "        vertical-align: middle;\n",
       "    }\n",
       "\n",
       "    .dataframe tbody tr th {\n",
       "        vertical-align: top;\n",
       "    }\n",
       "\n",
       "    .dataframe thead th {\n",
       "        text-align: right;\n",
       "    }\n",
       "</style>\n",
       "<table border=\"1\" class=\"dataframe\">\n",
       "  <thead>\n",
       "    <tr style=\"text-align: right;\">\n",
       "      <th></th>\n",
       "      <th>mean_cty</th>\n",
       "    </tr>\n",
       "    <tr>\n",
       "      <th>drv</th>\n",
       "      <th></th>\n",
       "    </tr>\n",
       "  </thead>\n",
       "  <tbody>\n",
       "    <tr>\n",
       "      <th>4</th>\n",
       "      <td>14.247423</td>\n",
       "    </tr>\n",
       "    <tr>\n",
       "      <th>f</th>\n",
       "      <td>19.470000</td>\n",
       "    </tr>\n",
       "    <tr>\n",
       "      <th>r</th>\n",
       "      <td>13.958333</td>\n",
       "    </tr>\n",
       "  </tbody>\n",
       "</table>\n",
       "</div>"
      ],
      "text/plain": [
       "      mean_cty\n",
       "drv           \n",
       "4    14.247423\n",
       "f    19.470000\n",
       "r    13.958333"
      ]
     },
     "execution_count": 23,
     "metadata": {},
     "output_type": "execute_result"
    }
   ],
   "source": [
    "# df.dropna()를 이용해 결측치 제거\n",
    "mpg00 = mpg.dropna(subset= ['drv', 'cty'])\n",
    "\n",
    "# drv 그룹별 cty 평균 요약하기\n",
    "mpg00.groupby('drv') \\\n",
    "    .agg(mean_cty = ('cty', 'mean'))"
   ]
  },
  {
   "cell_type": "markdown",
   "id": "dd0c1020",
   "metadata": {},
   "source": [
    "#### *→ 분석 결과 drv가 f, 4, r인 순서대로 cty의 평균이 높다.*"
   ]
  }
 ],
 "metadata": {
  "kernelspec": {
   "display_name": "Python 3",
   "language": "python",
   "name": "python3"
  },
  "language_info": {
   "codemirror_mode": {
    "name": "ipython",
    "version": 3
   },
   "file_extension": ".py",
   "mimetype": "text/x-python",
   "name": "python",
   "nbconvert_exporter": "python",
   "pygments_lexer": "ipython3",
   "version": "3.12.10"
  }
 },
 "nbformat": 4,
 "nbformat_minor": 5
}
